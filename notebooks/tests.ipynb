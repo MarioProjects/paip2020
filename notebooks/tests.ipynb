{
 "cells": [
  {
   "cell_type": "markdown",
   "metadata": {},
   "source": [
    "### Import libraries"
   ]
  },
  {
   "cell_type": "code",
   "execution_count": 14,
   "metadata": {},
   "outputs": [],
   "source": [
    "import sys\n",
    "sys.path.append(\"../\")"
   ]
  },
  {
   "cell_type": "code",
   "execution_count": 15,
   "metadata": {},
   "outputs": [],
   "source": [
    "import preprocess.view_utils as view_utils"
   ]
  },
  {
   "cell_type": "code",
   "execution_count": 16,
   "metadata": {},
   "outputs": [],
   "source": [
    "import os\n",
    "from os import environ\n",
    "import numpy as np\n",
    "from random import choices\n",
    "import pandas as pd\n",
    "from tqdm.notebook import tqdm"
   ]
  },
  {
   "cell_type": "code",
   "execution_count": 17,
   "metadata": {},
   "outputs": [],
   "source": [
    "import skimage.io as io\n",
    "import openslide"
   ]
  },
  {
   "cell_type": "code",
   "execution_count": 18,
   "metadata": {},
   "outputs": [],
   "source": [
    "import seaborn as sns\n",
    "import matplotlib.pyplot as plt\n",
    "%matplotlib inline"
   ]
  },
  {
   "cell_type": "code",
   "execution_count": 19,
   "metadata": {},
   "outputs": [],
   "source": [
    "from utils.patches import *"
   ]
  },
  {
   "cell_type": "code",
   "execution_count": 20,
   "metadata": {},
   "outputs": [],
   "source": [
    "import warnings\n",
    "warnings.filterwarnings('ignore')"
   ]
  },
  {
   "cell_type": "markdown",
   "metadata": {},
   "source": [
    "#### Get Dataframe with all data info"
   ]
  },
  {
   "cell_type": "code",
   "execution_count": 10,
   "metadata": {},
   "outputs": [],
   "source": [
    "if environ.get('LVSC_DATA_PATH') is not None:\n",
    "    PAIP2020_DATA_PATH = environ.get('PAIP2020_DATA_PATH')\n",
    "else:\n",
    "    print(\"Please set the environment variable PAIP2020_DATA_PATH. Read the README!\")"
   ]
  },
  {
   "cell_type": "code",
   "execution_count": 11,
   "metadata": {},
   "outputs": [
    {
     "data": {
      "text/html": [
       "<div>\n",
       "<style scoped>\n",
       "    .dataframe tbody tr th:only-of-type {\n",
       "        vertical-align: middle;\n",
       "    }\n",
       "\n",
       "    .dataframe tbody tr th {\n",
       "        vertical-align: top;\n",
       "    }\n",
       "\n",
       "    .dataframe thead th {\n",
       "        text-align: right;\n",
       "    }\n",
       "</style>\n",
       "<table border=\"1\" class=\"dataframe\">\n",
       "  <thead>\n",
       "    <tr style=\"text-align: right;\">\n",
       "      <th></th>\n",
       "      <th>case</th>\n",
       "      <th>patch</th>\n",
       "      <th>mask</th>\n",
       "      <th>type</th>\n",
       "      <th>ph</th>\n",
       "      <th>pw</th>\n",
       "      <th>MSI-H</th>\n",
       "      <th>is_validation</th>\n",
       "    </tr>\n",
       "  </thead>\n",
       "  <tbody>\n",
       "    <tr>\n",
       "      <th>0</th>\n",
       "      <td>training_data_11</td>\n",
       "      <td>Train/patches_level2_len256_stride64/training_...</td>\n",
       "      <td>Train/patches_level2_len256_stride64/training_...</td>\n",
       "      <td>background</td>\n",
       "      <td>4558</td>\n",
       "      <td>5695</td>\n",
       "      <td>0</td>\n",
       "      <td>0</td>\n",
       "    </tr>\n",
       "    <tr>\n",
       "      <th>1</th>\n",
       "      <td>training_data_11</td>\n",
       "      <td>Train/patches_level2_len256_stride64/training_...</td>\n",
       "      <td>Train/patches_level2_len256_stride64/training_...</td>\n",
       "      <td>border</td>\n",
       "      <td>2912</td>\n",
       "      <td>2687</td>\n",
       "      <td>0</td>\n",
       "      <td>0</td>\n",
       "    </tr>\n",
       "    <tr>\n",
       "      <th>2</th>\n",
       "      <td>training_data_11</td>\n",
       "      <td>Train/patches_level2_len256_stride64/training_...</td>\n",
       "      <td>Train/patches_level2_len256_stride64/training_...</td>\n",
       "      <td>background</td>\n",
       "      <td>1645</td>\n",
       "      <td>4159</td>\n",
       "      <td>0</td>\n",
       "      <td>0</td>\n",
       "    </tr>\n",
       "    <tr>\n",
       "      <th>3</th>\n",
       "      <td>training_data_11</td>\n",
       "      <td>Train/patches_level2_len256_stride64/training_...</td>\n",
       "      <td>Train/patches_level2_len256_stride64/training_...</td>\n",
       "      <td>background</td>\n",
       "      <td>1329</td>\n",
       "      <td>2367</td>\n",
       "      <td>0</td>\n",
       "      <td>0</td>\n",
       "    </tr>\n",
       "    <tr>\n",
       "      <th>4</th>\n",
       "      <td>training_data_11</td>\n",
       "      <td>Train/patches_level2_len256_stride64/training_...</td>\n",
       "      <td>Train/patches_level2_len256_stride64/training_...</td>\n",
       "      <td>background</td>\n",
       "      <td>3102</td>\n",
       "      <td>1279</td>\n",
       "      <td>0</td>\n",
       "      <td>0</td>\n",
       "    </tr>\n",
       "  </tbody>\n",
       "</table>\n",
       "</div>"
      ],
      "text/plain": [
       "               case                                              patch  \\\n",
       "0  training_data_11  Train/patches_level2_len256_stride64/training_...   \n",
       "1  training_data_11  Train/patches_level2_len256_stride64/training_...   \n",
       "2  training_data_11  Train/patches_level2_len256_stride64/training_...   \n",
       "3  training_data_11  Train/patches_level2_len256_stride64/training_...   \n",
       "4  training_data_11  Train/patches_level2_len256_stride64/training_...   \n",
       "\n",
       "                                                mask        type    ph    pw  \\\n",
       "0  Train/patches_level2_len256_stride64/training_...  background  4558  5695   \n",
       "1  Train/patches_level2_len256_stride64/training_...      border  2912  2687   \n",
       "2  Train/patches_level2_len256_stride64/training_...  background  1645  4159   \n",
       "3  Train/patches_level2_len256_stride64/training_...  background  1329  2367   \n",
       "4  Train/patches_level2_len256_stride64/training_...  background  3102  1279   \n",
       "\n",
       "   MSI-H  is_validation  \n",
       "0      0              0  \n",
       "1      0              0  \n",
       "2      0              0  \n",
       "3      0              0  \n",
       "4      0              0  "
      ]
     },
     "execution_count": 11,
     "metadata": {},
     "output_type": "execute_result"
    }
   ],
   "source": [
    "train_patch_df = pd.read_csv(\"../utils/data/patches_level2_len256_stride64.csv\")\n",
    "train_patch_df.head()"
   ]
  },
  {
   "cell_type": "code",
   "execution_count": 12,
   "metadata": {
    "scrolled": true
   },
   "outputs": [
    {
     "name": "stdout",
     "output_type": "stream",
     "text": [
      "Total patches: 436720\n"
     ]
    }
   ],
   "source": [
    "print(\"Total patches: {}\".format(len(train_patch_df)))"
   ]
  },
  {
   "cell_type": "code",
   "execution_count": 13,
   "metadata": {},
   "outputs": [
    {
     "data": {
      "text/plain": [
       "<matplotlib.axes._subplots.AxesSubplot at 0x7f6d4d57c910>"
      ]
     },
     "execution_count": 13,
     "metadata": {},
     "output_type": "execute_result"
    },
    {
     "data": {
      "image/png": "[encoded data removed]",
      "text/plain": [
       "<Figure size 432x288 with 1 Axes>"
      ]
     },
     "metadata": {
      "needs_background": "light"
     },
     "output_type": "display_data"
    }
   ],
   "source": [
    "sns.countplot(train_patch_df[\"type\"])"
   ]
  },
  {
   "cell_type": "markdown",
   "metadata": {},
   "source": [
    "### Image & Mask range"
   ]
  },
  {
   "cell_type": "code",
   "execution_count": 14,
   "metadata": {},
   "outputs": [],
   "source": [
    "first_patch_path = os.path.join(PAIP2020_DATA_PATH, train_patch_df.loc[0][\"patch\"])\n",
    "first_mask_path = os.path.join(PAIP2020_DATA_PATH, train_patch_df.loc[0][\"mask\"])"
   ]
  },
  {
   "cell_type": "code",
   "execution_count": 15,
   "metadata": {},
   "outputs": [],
   "source": [
    "image = (io.imread(first_patch_path) / 255.0).astype(np.float32)\n",
    "mask = io.imread(first_mask_path).astype(np.float32)"
   ]
  },
  {
   "cell_type": "code",
   "execution_count": 16,
   "metadata": {},
   "outputs": [
    {
     "name": "stdout",
     "output_type": "stream",
     "text": [
      "Image (256, 256, 3) -> Max 1.0 Min 0.30588236451148987\n",
      "Mask (256, 256) -> Max 0.0 Min 0.0 / Values [0.]\n"
     ]
    }
   ],
   "source": [
    "print(\"Image {} -> Max {} Min {}\".format(image.shape, image.max(), image.min()))\n",
    "print(\"Mask {} -> Max {} Min {} / Values {}\".format(mask.shape, mask.max(), mask.min(), np.unique(mask)))"
   ]
  },
  {
   "cell_type": "code",
   "execution_count": 17,
   "metadata": {},
   "outputs": [
    {
     "data": {
      "text/plain": [
       "<matplotlib.image.AxesImage at 0x7f6d4c340dd0>"
      ]
     },
     "execution_count": 17,
     "metadata": {},
     "output_type": "execute_result"
    },
    {
     "data": {
      "image/png": "[encoded data removed]",
      "text/plain": [
       "<Figure size 648x648 with 2 Axes>"
      ]
     },
     "metadata": {
      "needs_background": "light"
     },
     "output_type": "display_data"
    }
   ],
   "source": [
    "fig, (ax1, ax2) = plt.subplots(1, 2, figsize=(9, 9))\n",
    "ax1.axis('off'); ax2.axis('off')\n",
    "ax1.imshow(image)\n",
    "ax2.imshow(mask, cmap=\"gray\")"
   ]
  },
  {
   "cell_type": "markdown",
   "metadata": {},
   "source": [
    "### Get slide filenames"
   ]
  },
  {
   "cell_type": "code",
   "execution_count": 18,
   "metadata": {},
   "outputs": [
    {
     "data": {
      "text/html": [
       "<div>\n",
       "<style scoped>\n",
       "    .dataframe tbody tr th:only-of-type {\n",
       "        vertical-align: middle;\n",
       "    }\n",
       "\n",
       "    .dataframe tbody tr th {\n",
       "        vertical-align: top;\n",
       "    }\n",
       "\n",
       "    .dataframe thead th {\n",
       "        text-align: right;\n",
       "    }\n",
       "</style>\n",
       "<table border=\"1\" class=\"dataframe\">\n",
       "  <thead>\n",
       "    <tr style=\"text-align: right;\">\n",
       "      <th></th>\n",
       "      <th>case</th>\n",
       "      <th>patch</th>\n",
       "      <th>mask</th>\n",
       "      <th>type</th>\n",
       "      <th>ph</th>\n",
       "      <th>pw</th>\n",
       "      <th>MSI-H</th>\n",
       "      <th>is_validation</th>\n",
       "    </tr>\n",
       "  </thead>\n",
       "  <tbody>\n",
       "    <tr>\n",
       "      <th>0</th>\n",
       "      <td>training_data_11</td>\n",
       "      <td>Train/patches_level2_len256_stride64/training_...</td>\n",
       "      <td>Train/patches_level2_len256_stride64/training_...</td>\n",
       "      <td>background</td>\n",
       "      <td>4558</td>\n",
       "      <td>5695</td>\n",
       "      <td>0</td>\n",
       "      <td>0</td>\n",
       "    </tr>\n",
       "    <tr>\n",
       "      <th>1</th>\n",
       "      <td>training_data_11</td>\n",
       "      <td>Train/patches_level2_len256_stride64/training_...</td>\n",
       "      <td>Train/patches_level2_len256_stride64/training_...</td>\n",
       "      <td>border</td>\n",
       "      <td>2912</td>\n",
       "      <td>2687</td>\n",
       "      <td>0</td>\n",
       "      <td>0</td>\n",
       "    </tr>\n",
       "    <tr>\n",
       "      <th>2</th>\n",
       "      <td>training_data_11</td>\n",
       "      <td>Train/patches_level2_len256_stride64/training_...</td>\n",
       "      <td>Train/patches_level2_len256_stride64/training_...</td>\n",
       "      <td>background</td>\n",
       "      <td>1645</td>\n",
       "      <td>4159</td>\n",
       "      <td>0</td>\n",
       "      <td>0</td>\n",
       "    </tr>\n",
       "    <tr>\n",
       "      <th>3</th>\n",
       "      <td>training_data_11</td>\n",
       "      <td>Train/patches_level2_len256_stride64/training_...</td>\n",
       "      <td>Train/patches_level2_len256_stride64/training_...</td>\n",
       "      <td>background</td>\n",
       "      <td>1329</td>\n",
       "      <td>2367</td>\n",
       "      <td>0</td>\n",
       "      <td>0</td>\n",
       "    </tr>\n",
       "    <tr>\n",
       "      <th>4</th>\n",
       "      <td>training_data_11</td>\n",
       "      <td>Train/patches_level2_len256_stride64/training_...</td>\n",
       "      <td>Train/patches_level2_len256_stride64/training_...</td>\n",
       "      <td>background</td>\n",
       "      <td>3102</td>\n",
       "      <td>1279</td>\n",
       "      <td>0</td>\n",
       "      <td>0</td>\n",
       "    </tr>\n",
       "  </tbody>\n",
       "</table>\n",
       "</div>"
      ],
      "text/plain": [
       "               case                                              patch  \\\n",
       "0  training_data_11  Train/patches_level2_len256_stride64/training_...   \n",
       "1  training_data_11  Train/patches_level2_len256_stride64/training_...   \n",
       "2  training_data_11  Train/patches_level2_len256_stride64/training_...   \n",
       "3  training_data_11  Train/patches_level2_len256_stride64/training_...   \n",
       "4  training_data_11  Train/patches_level2_len256_stride64/training_...   \n",
       "\n",
       "                                                mask        type    ph    pw  \\\n",
       "0  Train/patches_level2_len256_stride64/training_...  background  4558  5695   \n",
       "1  Train/patches_level2_len256_stride64/training_...      border  2912  2687   \n",
       "2  Train/patches_level2_len256_stride64/training_...  background  1645  4159   \n",
       "3  Train/patches_level2_len256_stride64/training_...  background  1329  2367   \n",
       "4  Train/patches_level2_len256_stride64/training_...  background  3102  1279   \n",
       "\n",
       "   MSI-H  is_validation  \n",
       "0      0              0  \n",
       "1      0              0  \n",
       "2      0              0  \n",
       "3      0              0  \n",
       "4      0              0  "
      ]
     },
     "execution_count": 18,
     "metadata": {},
     "output_type": "execute_result"
    }
   ],
   "source": [
    "train_patch_df.head()"
   ]
  },
  {
   "cell_type": "code",
   "execution_count": 19,
   "metadata": {},
   "outputs": [
    {
     "data": {
      "text/html": [
       "<div>\n",
       "<style scoped>\n",
       "    .dataframe tbody tr th:only-of-type {\n",
       "        vertical-align: middle;\n",
       "    }\n",
       "\n",
       "    .dataframe tbody tr th {\n",
       "        vertical-align: top;\n",
       "    }\n",
       "\n",
       "    .dataframe thead th {\n",
       "        text-align: right;\n",
       "    }\n",
       "</style>\n",
       "<table border=\"1\" class=\"dataframe\">\n",
       "  <thead>\n",
       "    <tr style=\"text-align: right;\">\n",
       "      <th></th>\n",
       "      <th>case</th>\n",
       "      <th>wsi</th>\n",
       "      <th>annotation</th>\n",
       "      <th>annotation_tif</th>\n",
       "      <th>MSI-H</th>\n",
       "      <th>is_validation</th>\n",
       "    </tr>\n",
       "  </thead>\n",
       "  <tbody>\n",
       "    <tr>\n",
       "      <th>0</th>\n",
       "      <td>training_data_41</td>\n",
       "      <td>Train/WSI/training_data_41.svs</td>\n",
       "      <td>Train/annotation/training_data_41.xml</td>\n",
       "      <td>Train/mask_img_l2/training_data_41_l2_annotati...</td>\n",
       "      <td>0</td>\n",
       "      <td>0</td>\n",
       "    </tr>\n",
       "    <tr>\n",
       "      <th>1</th>\n",
       "      <td>training_data_38</td>\n",
       "      <td>Train/WSI/training_data_38.svs</td>\n",
       "      <td>Train/annotation/training_data_38.xml</td>\n",
       "      <td>Train/mask_img_l2/training_data_38_l2_annotati...</td>\n",
       "      <td>0</td>\n",
       "      <td>0</td>\n",
       "    </tr>\n",
       "    <tr>\n",
       "      <th>2</th>\n",
       "      <td>training_data_36</td>\n",
       "      <td>Train/WSI/training_data_36.svs</td>\n",
       "      <td>Train/annotation/training_data_36.xml</td>\n",
       "      <td>Train/mask_img_l2/training_data_36_l2_annotati...</td>\n",
       "      <td>0</td>\n",
       "      <td>0</td>\n",
       "    </tr>\n",
       "    <tr>\n",
       "      <th>3</th>\n",
       "      <td>training_data_10</td>\n",
       "      <td>Train/WSI/training_data_10.svs</td>\n",
       "      <td>Train/annotation/training_data_10.xml</td>\n",
       "      <td>Train/mask_img_l2/training_data_10_l2_annotati...</td>\n",
       "      <td>0</td>\n",
       "      <td>0</td>\n",
       "    </tr>\n",
       "    <tr>\n",
       "      <th>4</th>\n",
       "      <td>training_data_08</td>\n",
       "      <td>Train/WSI/training_data_08.svs</td>\n",
       "      <td>Train/annotation/training_data_08.xml</td>\n",
       "      <td>Train/mask_img_l2/training_data_08_l2_annotati...</td>\n",
       "      <td>0</td>\n",
       "      <td>0</td>\n",
       "    </tr>\n",
       "  </tbody>\n",
       "</table>\n",
       "</div>"
      ],
      "text/plain": [
       "               case                             wsi  \\\n",
       "0  training_data_41  Train/WSI/training_data_41.svs   \n",
       "1  training_data_38  Train/WSI/training_data_38.svs   \n",
       "2  training_data_36  Train/WSI/training_data_36.svs   \n",
       "3  training_data_10  Train/WSI/training_data_10.svs   \n",
       "4  training_data_08  Train/WSI/training_data_08.svs   \n",
       "\n",
       "                              annotation  \\\n",
       "0  Train/annotation/training_data_41.xml   \n",
       "1  Train/annotation/training_data_38.xml   \n",
       "2  Train/annotation/training_data_36.xml   \n",
       "3  Train/annotation/training_data_10.xml   \n",
       "4  Train/annotation/training_data_08.xml   \n",
       "\n",
       "                                      annotation_tif  MSI-H  is_validation  \n",
       "0  Train/mask_img_l2/training_data_41_l2_annotati...      0              0  \n",
       "1  Train/mask_img_l2/training_data_38_l2_annotati...      0              0  \n",
       "2  Train/mask_img_l2/training_data_36_l2_annotati...      0              0  \n",
       "3  Train/mask_img_l2/training_data_10_l2_annotati...      0              0  \n",
       "4  Train/mask_img_l2/training_data_08_l2_annotati...      0              0  "
      ]
     },
     "execution_count": 19,
     "metadata": {},
     "output_type": "execute_result"
    }
   ],
   "source": [
    "train_csv = pd.read_csv(\"../utils/data/train.csv\")\n",
    "train_csv.head()"
   ]
  },
  {
   "cell_type": "code",
   "execution_count": 20,
   "metadata": {},
   "outputs": [],
   "source": [
    "selected_cases = train_csv.loc[train_csv[\"case\"].isin(train_patch_df[\"case\"].unique())]"
   ]
  },
  {
   "cell_type": "code",
   "execution_count": 21,
   "metadata": {},
   "outputs": [
    {
     "name": "stdout",
     "output_type": "stream",
     "text": [
      "[('/home/maparla/DeepLearning/Datasets/PAIP2020/Train/WSI/training_data_41.svs', '/home/maparla/DeepLearning/Datasets/PAIP2020/Train/mask_img_l2/training_data_41_l2_annotation_tumor.tif'), ('/home/maparla/DeepLearning/Datasets/PAIP2020/Train/WSI/training_data_38.svs', '/home/maparla/DeepLearning/Datasets/PAIP2020/Train/mask_img_l2/training_data_38_l2_annotation_tumor.tif'), ('/home/maparla/DeepLearning/Datasets/PAIP2020/Train/WSI/training_data_36.svs', '/home/maparla/DeepLearning/Datasets/PAIP2020/Train/mask_img_l2/training_data_36_l2_annotation_tumor.tif'), ('/home/maparla/DeepLearning/Datasets/PAIP2020/Train/WSI/training_data_10.svs', '/home/maparla/DeepLearning/Datasets/PAIP2020/Train/mask_img_l2/training_data_10_l2_annotation_tumor.tif'), ('/home/maparla/DeepLearning/Datasets/PAIP2020/Train/WSI/training_data_08.svs', '/home/maparla/DeepLearning/Datasets/PAIP2020/Train/mask_img_l2/training_data_08_l2_annotation_tumor.tif')]\n"
     ]
    }
   ],
   "source": [
    "res = list(zip(PAIP2020_DATA_PATH + selected_cases.wsi, PAIP2020_DATA_PATH + selected_cases.annotation_tif))\n",
    "print(res[0:5])"
   ]
  },
  {
   "cell_type": "markdown",
   "metadata": {},
   "source": [
    "### Metrics on whole mask"
   ]
  },
  {
   "cell_type": "code",
   "execution_count": 22,
   "metadata": {},
   "outputs": [],
   "source": [
    "from utils.metrics import *"
   ]
  },
  {
   "cell_type": "code",
   "execution_count": 23,
   "metadata": {},
   "outputs": [
    {
     "name": "stdout",
     "output_type": "stream",
     "text": [
      "Mask shape: (5816, 7594) / Values: [0. 1.]\n"
     ]
    }
   ],
   "source": [
    "big_mask_path = res[0][1]\n",
    "big_mask = io.imread(big_mask_path).astype(np.float32)\n",
    "print(\"Mask shape: {} / Values: {}\".format(big_mask.shape, np.unique(big_mask)))"
   ]
  },
  {
   "cell_type": "code",
   "execution_count": 24,
   "metadata": {},
   "outputs": [],
   "source": [
    "random_mask = np.random.randint(2, size=big_mask.shape).astype(np.uint8)"
   ]
  },
  {
   "cell_type": "code",
   "execution_count": 25,
   "metadata": {},
   "outputs": [
    {
     "data": {
      "text/plain": [
       "<matplotlib.image.AxesImage at 0x7f6d38e82790>"
      ]
     },
     "execution_count": 25,
     "metadata": {},
     "output_type": "execute_result"
    },
    {
     "data": {
      "image/png": "[encoded data removed]",
      "text/plain": [
       "<Figure size 648x648 with 2 Axes>"
      ]
     },
     "metadata": {
      "needs_background": "light"
     },
     "output_type": "display_data"
    }
   ],
   "source": [
    "fig, (ax1, ax2) = plt.subplots(1, 2, figsize=(9, 9))\n",
    "ax1.axis('off'); ax2.axis('off')\n",
    "ax1.title.set_text(\"Original mask\")\n",
    "ax1.imshow(big_mask, cmap=\"gray\")\n",
    "ax2.title.set_text(\"Random mask\")\n",
    "ax2.imshow(random_mask, cmap=\"gray\")"
   ]
  },
  {
   "cell_type": "code",
   "execution_count": 26,
   "metadata": {},
   "outputs": [
    {
     "name": "stdout",
     "output_type": "stream",
     "text": [
      "IOU 0.11273225684206872\n",
      "DICE 0.20262242987725113\n"
     ]
    }
   ],
   "source": [
    "print(\"IOU {}\".format(jaccard_coef(big_mask, random_mask)))\n",
    "print(\"DICE {}\".format(dice_coef(big_mask, random_mask)))"
   ]
  },
  {
   "cell_type": "markdown",
   "metadata": {},
   "source": [
    "### Dataloader"
   ]
  },
  {
   "cell_type": "code",
   "execution_count": 1,
   "metadata": {},
   "outputs": [],
   "source": [
    "import sys\n",
    "sys.path.append(\"../\")"
   ]
  },
  {
   "cell_type": "code",
   "execution_count": 2,
   "metadata": {},
   "outputs": [],
   "source": [
    "import seaborn as sns\n",
    "import matplotlib.pyplot as plt\n",
    "%matplotlib inline"
   ]
  },
  {
   "cell_type": "code",
   "execution_count": 3,
   "metadata": {},
   "outputs": [],
   "source": [
    "from torch.utils.data import DataLoader\n",
    "from utils.dataload import *\n",
    "from utils.data_augmentation import data_augmentation_selector"
   ]
  },
  {
   "cell_type": "code",
   "execution_count": 4,
   "metadata": {},
   "outputs": [],
   "source": [
    "slide_level, patch_len, stride_len = 2, 256, 64\n",
    "batch_size = 32"
   ]
  },
  {
   "cell_type": "code",
   "execution_count": 5,
   "metadata": {},
   "outputs": [
    {
     "name": "stdout",
     "output_type": "stream",
     "text": [
      "Using None Data Augmentation\n"
     ]
    }
   ],
   "source": [
    "train_aug, train_aug_img, val_aug = data_augmentation_selector(\"none\", 256, 256)"
   ]
  },
  {
   "cell_type": "code",
   "execution_count": 6,
   "metadata": {},
   "outputs": [
    {
     "name": "stdout",
     "output_type": "stream",
     "text": [
      "Using None Data Augmentation\n"
     ]
    }
   ],
   "source": [
    "train_aug, train_aug_img, val_aug = data_augmentation_selector(\"none\", 256, 256)"
   ]
  },
  {
   "cell_type": "code",
   "execution_count": 7,
   "metadata": {},
   "outputs": [
    {
     "name": "stdout",
     "output_type": "stream",
     "text": [
      "\n",
      "-- Dataloader statistics: validation --\n",
      "'background' -> 48684\n",
      "'border' -> 8511\n",
      "'tumour' -> 7152\n"
     ]
    }
   ],
   "source": [
    "val_dataset = PatchDataset(\n",
    "    \"validation\", 2, 256, 64, val_aug, [],\n",
    "    normalize=False, patch_type=\"all\", seed=2\n",
    ")\n"
   ]
  },
  {
   "cell_type": "code",
   "execution_count": 8,
   "metadata": {},
   "outputs": [],
   "source": [
    "slide_names = val_dataset.get_slide_filenames()"
   ]
  },
  {
   "cell_type": "code",
   "execution_count": 12,
   "metadata": {},
   "outputs": [],
   "source": [
    "import openslide"
   ]
  },
  {
   "cell_type": "code",
   "execution_count": 14,
   "metadata": {},
   "outputs": [],
   "source": [
    "from utils.patches import *"
   ]
  },
  {
   "cell_type": "code",
   "execution_count": 15,
   "metadata": {},
   "outputs": [],
   "source": [
    "for num, (cur_slide_path, cur_mask_path) in enumerate(slide_names):\n",
    "    # Load WSI\n",
    "    mask = mask_loader(cur_mask_path)\n",
    "\n",
    "    wsi_head = openslide.OpenSlide(cur_slide_path)\n",
    "    slide_img = wsi_head.read_region(\n",
    "        (0, 0), val_dataset.slide_level, wsi_head.level_dimensions[val_dataset.slide_level]\n",
    "    )\n",
    "    pred_h = wsi_head.level_dimensions[val_dataset.slide_level][1]\n",
    "    pred_w = wsi_head.level_dimensions[val_dataset.slide_level][0]\n",
    "    slide_img = np.asarray(slide_img)[:, :, :3]  # Quitamos el canal alpha ya que no tiene información relevante\n",
    "\n",
    "    coors_arr = wsi_stride_splitting(pred_h, pred_w, val_dataset.patch_len, val_dataset.stride_len)\n",
    "    patch_arr, wmap = gen_patch_wmap(slide_img, coors_arr, val_dataset.patch_len)\n",
    "    break\n",
    "    patch_dset = PatchArrayDataset(patch_arr, val_dataset.transform, val_dataset.img_transform)\n",
    "    patch_loader = DataLoader(patch_dset, batch_size=batch_size, shuffle=False, num_workers=4, drop_last=False)\n",
    "    pred_map = np.zeros_like(wmap).astype(np.float32)\n",
    "    \n",
    "    break"
   ]
  },
  {
   "cell_type": "code",
   "execution_count": 16,
   "metadata": {},
   "outputs": [
    {
     "data": {
      "text/plain": [
       "(10208, 256, 256, 3)"
      ]
     },
     "execution_count": 16,
     "metadata": {},
     "output_type": "execute_result"
    }
   ],
   "source": [
    "patch_arr.shape"
   ]
  },
  {
   "cell_type": "code",
   "execution_count": 17,
   "metadata": {},
   "outputs": [],
   "source": [
    "patch_dset = PatchArrayDataset(patch_arr, val_dataset.transform, val_dataset.img_transform)"
   ]
  },
  {
   "cell_type": "code",
   "execution_count": 18,
   "metadata": {},
   "outputs": [],
   "source": [
    "patch_loader = DataLoader(patch_dset, batch_size=batch_size, shuffle=False, num_workers=4, drop_last=False)"
   ]
  },
  {
   "cell_type": "code",
   "execution_count": 19,
   "metadata": {},
   "outputs": [
    {
     "ename": "TypeError",
     "evalue": "Caught TypeError in DataLoader worker process 0.\nOriginal Traceback (most recent call last):\n  File \"/home/maparla/venv/lib/python3.7/site-packages/torch/utils/data/_utils/worker.py\", line 178, in _worker_loop\n    data = fetcher.fetch(index)\n  File \"/home/maparla/venv/lib/python3.7/site-packages/torch/utils/data/_utils/fetch.py\", line 47, in fetch\n    return self.collate_fn(data)\n  File \"/home/maparla/venv/lib/python3.7/site-packages/torch/utils/data/_utils/collate.py\", line 79, in default_collate\n    return [default_collate(samples) for samples in transposed]\n  File \"/home/maparla/venv/lib/python3.7/site-packages/torch/utils/data/_utils/collate.py\", line 79, in <listcomp>\n    return [default_collate(samples) for samples in transposed]\n  File \"/home/maparla/venv/lib/python3.7/site-packages/torch/utils/data/_utils/collate.py\", line 81, in default_collate\n    raise TypeError(default_collate_err_msg_format.format(elem_type))\nTypeError: default_collate: batch must contain tensors, numpy arrays, numbers, dicts or lists; found <class 'NoneType'>\n",
     "output_type": "error",
     "traceback": [
      "\u001b[0;31m---------------------------------------------------------------------------\u001b[0m",
      "\u001b[0;31mTypeError\u001b[0m                                 Traceback (most recent call last)",
      "\u001b[0;32m<ipython-input-19-c60c6c721ad9>\u001b[0m in \u001b[0;36m<module>\u001b[0;34m\u001b[0m\n\u001b[0;32m----> 1\u001b[0;31m \u001b[0mnext\u001b[0m\u001b[0;34m(\u001b[0m\u001b[0miter\u001b[0m\u001b[0;34m(\u001b[0m\u001b[0mpatch_loader\u001b[0m\u001b[0;34m)\u001b[0m\u001b[0;34m)\u001b[0m\u001b[0;34m\u001b[0m\u001b[0;34m\u001b[0m\u001b[0m\n\u001b[0m",
      "\u001b[0;32m~/venv/lib/python3.7/site-packages/torch/utils/data/dataloader.py\u001b[0m in \u001b[0;36m__next__\u001b[0;34m(self)\u001b[0m\n\u001b[1;32m    343\u001b[0m \u001b[0;34m\u001b[0m\u001b[0m\n\u001b[1;32m    344\u001b[0m     \u001b[0;32mdef\u001b[0m \u001b[0m__next__\u001b[0m\u001b[0;34m(\u001b[0m\u001b[0mself\u001b[0m\u001b[0;34m)\u001b[0m\u001b[0;34m:\u001b[0m\u001b[0;34m\u001b[0m\u001b[0;34m\u001b[0m\u001b[0m\n\u001b[0;32m--> 345\u001b[0;31m         \u001b[0mdata\u001b[0m \u001b[0;34m=\u001b[0m \u001b[0mself\u001b[0m\u001b[0;34m.\u001b[0m\u001b[0m_next_data\u001b[0m\u001b[0;34m(\u001b[0m\u001b[0;34m)\u001b[0m\u001b[0;34m\u001b[0m\u001b[0;34m\u001b[0m\u001b[0m\n\u001b[0m\u001b[1;32m    346\u001b[0m         \u001b[0mself\u001b[0m\u001b[0;34m.\u001b[0m\u001b[0m_num_yielded\u001b[0m \u001b[0;34m+=\u001b[0m \u001b[0;36m1\u001b[0m\u001b[0;34m\u001b[0m\u001b[0;34m\u001b[0m\u001b[0m\n\u001b[1;32m    347\u001b[0m         \u001b[0;32mif\u001b[0m \u001b[0mself\u001b[0m\u001b[0;34m.\u001b[0m\u001b[0m_dataset_kind\u001b[0m \u001b[0;34m==\u001b[0m \u001b[0m_DatasetKind\u001b[0m\u001b[0;34m.\u001b[0m\u001b[0mIterable\u001b[0m \u001b[0;32mand\u001b[0m\u001b[0;31m \u001b[0m\u001b[0;31m\\\u001b[0m\u001b[0;34m\u001b[0m\u001b[0;34m\u001b[0m\u001b[0m\n",
      "\u001b[0;32m~/venv/lib/python3.7/site-packages/torch/utils/data/dataloader.py\u001b[0m in \u001b[0;36m_next_data\u001b[0;34m(self)\u001b[0m\n\u001b[1;32m    854\u001b[0m             \u001b[0;32melse\u001b[0m\u001b[0;34m:\u001b[0m\u001b[0;34m\u001b[0m\u001b[0;34m\u001b[0m\u001b[0m\n\u001b[1;32m    855\u001b[0m                 \u001b[0;32mdel\u001b[0m \u001b[0mself\u001b[0m\u001b[0;34m.\u001b[0m\u001b[0m_task_info\u001b[0m\u001b[0;34m[\u001b[0m\u001b[0midx\u001b[0m\u001b[0;34m]\u001b[0m\u001b[0;34m\u001b[0m\u001b[0;34m\u001b[0m\u001b[0m\n\u001b[0;32m--> 856\u001b[0;31m                 \u001b[0;32mreturn\u001b[0m \u001b[0mself\u001b[0m\u001b[0;34m.\u001b[0m\u001b[0m_process_data\u001b[0m\u001b[0;34m(\u001b[0m\u001b[0mdata\u001b[0m\u001b[0;34m)\u001b[0m\u001b[0;34m\u001b[0m\u001b[0;34m\u001b[0m\u001b[0m\n\u001b[0m\u001b[1;32m    857\u001b[0m \u001b[0;34m\u001b[0m\u001b[0m\n\u001b[1;32m    858\u001b[0m     \u001b[0;32mdef\u001b[0m \u001b[0m_try_put_index\u001b[0m\u001b[0;34m(\u001b[0m\u001b[0mself\u001b[0m\u001b[0;34m)\u001b[0m\u001b[0;34m:\u001b[0m\u001b[0;34m\u001b[0m\u001b[0;34m\u001b[0m\u001b[0m\n",
      "\u001b[0;32m~/venv/lib/python3.7/site-packages/torch/utils/data/dataloader.py\u001b[0m in \u001b[0;36m_process_data\u001b[0;34m(self, data)\u001b[0m\n\u001b[1;32m    879\u001b[0m         \u001b[0mself\u001b[0m\u001b[0;34m.\u001b[0m\u001b[0m_try_put_index\u001b[0m\u001b[0;34m(\u001b[0m\u001b[0;34m)\u001b[0m\u001b[0;34m\u001b[0m\u001b[0;34m\u001b[0m\u001b[0m\n\u001b[1;32m    880\u001b[0m         \u001b[0;32mif\u001b[0m \u001b[0misinstance\u001b[0m\u001b[0;34m(\u001b[0m\u001b[0mdata\u001b[0m\u001b[0;34m,\u001b[0m \u001b[0mExceptionWrapper\u001b[0m\u001b[0;34m)\u001b[0m\u001b[0;34m:\u001b[0m\u001b[0;34m\u001b[0m\u001b[0;34m\u001b[0m\u001b[0m\n\u001b[0;32m--> 881\u001b[0;31m             \u001b[0mdata\u001b[0m\u001b[0;34m.\u001b[0m\u001b[0mreraise\u001b[0m\u001b[0;34m(\u001b[0m\u001b[0;34m)\u001b[0m\u001b[0;34m\u001b[0m\u001b[0;34m\u001b[0m\u001b[0m\n\u001b[0m\u001b[1;32m    882\u001b[0m         \u001b[0;32mreturn\u001b[0m \u001b[0mdata\u001b[0m\u001b[0;34m\u001b[0m\u001b[0;34m\u001b[0m\u001b[0m\n\u001b[1;32m    883\u001b[0m \u001b[0;34m\u001b[0m\u001b[0m\n",
      "\u001b[0;32m~/venv/lib/python3.7/site-packages/torch/_utils.py\u001b[0m in \u001b[0;36mreraise\u001b[0;34m(self)\u001b[0m\n\u001b[1;32m    392\u001b[0m             \u001b[0;31m# (https://bugs.python.org/issue2651), so we work around it.\u001b[0m\u001b[0;34m\u001b[0m\u001b[0;34m\u001b[0m\u001b[0;34m\u001b[0m\u001b[0m\n\u001b[1;32m    393\u001b[0m             \u001b[0mmsg\u001b[0m \u001b[0;34m=\u001b[0m \u001b[0mKeyErrorMessage\u001b[0m\u001b[0;34m(\u001b[0m\u001b[0mmsg\u001b[0m\u001b[0;34m)\u001b[0m\u001b[0;34m\u001b[0m\u001b[0;34m\u001b[0m\u001b[0m\n\u001b[0;32m--> 394\u001b[0;31m         \u001b[0;32mraise\u001b[0m \u001b[0mself\u001b[0m\u001b[0;34m.\u001b[0m\u001b[0mexc_type\u001b[0m\u001b[0;34m(\u001b[0m\u001b[0mmsg\u001b[0m\u001b[0;34m)\u001b[0m\u001b[0;34m\u001b[0m\u001b[0;34m\u001b[0m\u001b[0m\n\u001b[0m",
      "\u001b[0;31mTypeError\u001b[0m: Caught TypeError in DataLoader worker process 0.\nOriginal Traceback (most recent call last):\n  File \"/home/maparla/venv/lib/python3.7/site-packages/torch/utils/data/_utils/worker.py\", line 178, in _worker_loop\n    data = fetcher.fetch(index)\n  File \"/home/maparla/venv/lib/python3.7/site-packages/torch/utils/data/_utils/fetch.py\", line 47, in fetch\n    return self.collate_fn(data)\n  File \"/home/maparla/venv/lib/python3.7/site-packages/torch/utils/data/_utils/collate.py\", line 79, in default_collate\n    return [default_collate(samples) for samples in transposed]\n  File \"/home/maparla/venv/lib/python3.7/site-packages/torch/utils/data/_utils/collate.py\", line 79, in <listcomp>\n    return [default_collate(samples) for samples in transposed]\n  File \"/home/maparla/venv/lib/python3.7/site-packages/torch/utils/data/_utils/collate.py\", line 81, in default_collate\n    raise TypeError(default_collate_err_msg_format.format(elem_type))\nTypeError: default_collate: batch must contain tensors, numpy arrays, numbers, dicts or lists; found <class 'NoneType'>\n"
     ]
    }
   ],
   "source": [
    "next(iter(patch_loader))"
   ]
  },
  {
   "cell_type": "code",
   "execution_count": 28,
   "metadata": {},
   "outputs": [
    {
     "name": "stdout",
     "output_type": "stream",
     "text": [
      "                case  patch   mask   type     ph     pw  MSI-H  is_validation  \\\n",
      "<class 'int'>  60000  60000  60000  60000  60000  60000  60000          60000   \n",
      "\n",
      "               frequency  \n",
      "<class 'int'>      60000  \n"
     ]
    }
   ],
   "source": [
    "patch_dset = PatchDataset(\n",
    "    \"train\", slide_level, patch_len, stride_len, train_aug, train_aug_img, \n",
    "    normalize=False, patch_type=\"all\", samples_per_type=20000, seed=2\n",
    ")"
   ]
  },
  {
   "cell_type": "code",
   "execution_count": 29,
   "metadata": {},
   "outputs": [
    {
     "name": "stdout",
     "output_type": "stream",
     "text": [
      "'background' -> 30478\n",
      "'border' -> 15495\n",
      "'tumour' -> 14027\n"
     ]
    }
   ],
   "source": [
    "for indx, row in patch_dset.df_patches.groupby([\"type\"]).count().iterrows():\n",
    "    print(\"'{}' -> {}\".format(indx, row[\"case\"]))"
   ]
  },
  {
   "cell_type": "code",
   "execution_count": 7,
   "metadata": {},
   "outputs": [],
   "source": [
    "patch_loader = DataLoader(patch_dset, batch_size=batch_size, shuffle=False, num_workers=4, drop_last=False)"
   ]
  },
  {
   "cell_type": "code",
   "execution_count": 8,
   "metadata": {},
   "outputs": [],
   "source": [
    "for image, mask in patch_loader:\n",
    "    break"
   ]
  },
  {
   "cell_type": "code",
   "execution_count": 9,
   "metadata": {},
   "outputs": [
    {
     "data": {
      "text/plain": [
       "torch.Size([32, 3, 256, 256])"
      ]
     },
     "execution_count": 9,
     "metadata": {},
     "output_type": "execute_result"
    }
   ],
   "source": [
    "image.shape"
   ]
  },
  {
   "cell_type": "code",
   "execution_count": 10,
   "metadata": {},
   "outputs": [
    {
     "data": {
      "text/plain": [
       "torch.Size([32, 1, 256, 256])"
      ]
     },
     "execution_count": 10,
     "metadata": {},
     "output_type": "execute_result"
    }
   ],
   "source": [
    "mask.shape"
   ]
  },
  {
   "cell_type": "code",
   "execution_count": 11,
   "metadata": {},
   "outputs": [
    {
     "data": {
      "text/plain": [
       "tensor(0.7717)"
      ]
     },
     "execution_count": 11,
     "metadata": {},
     "output_type": "execute_result"
    }
   ],
   "source": [
    "image.mean()"
   ]
  },
  {
   "cell_type": "code",
   "execution_count": 12,
   "metadata": {},
   "outputs": [
    {
     "data": {
      "text/plain": [
       "tensor(0.1089)"
      ]
     },
     "execution_count": 12,
     "metadata": {},
     "output_type": "execute_result"
    }
   ],
   "source": [
    "image[0].std()"
   ]
  },
  {
   "cell_type": "code",
   "execution_count": 15,
   "metadata": {},
   "outputs": [
    {
     "data": {
      "text/plain": [
       "tensor(1.)"
      ]
     },
     "execution_count": 15,
     "metadata": {},
     "output_type": "execute_result"
    }
   ],
   "source": [
    "image.max()"
   ]
  },
  {
   "cell_type": "code",
   "execution_count": 21,
   "metadata": {},
   "outputs": [],
   "source": [
    "sample = image.data.cpu().numpy()[1].transpose(1,2,0)\n",
    "sample_mask = mask.data.cpu().numpy()[1].transpose(1,2,0)"
   ]
  },
  {
   "cell_type": "code",
   "execution_count": 22,
   "metadata": {},
   "outputs": [
    {
     "data": {
      "text/plain": [
       "<matplotlib.image.AxesImage at 0x7f09c7a9dad0>"
      ]
     },
     "execution_count": 22,
     "metadata": {},
     "output_type": "execute_result"
    },
    {
     "data": {
      "image/png": "[encoded data removed]",
      "text/plain": [
       "<Figure size 432x288 with 1 Axes>"
      ]
     },
     "metadata": {
      "needs_background": "light"
     },
     "output_type": "display_data"
    }
   ],
   "source": [
    "plt.imshow(sample)"
   ]
  },
  {
   "cell_type": "code",
   "execution_count": 23,
   "metadata": {},
   "outputs": [
    {
     "data": {
      "text/plain": [
       "<matplotlib.image.AxesImage at 0x7f09ce6d8790>"
      ]
     },
     "execution_count": 23,
     "metadata": {},
     "output_type": "execute_result"
    },
    {
     "data": {
      "image/png": "[encoded data removed]",
      "text/plain": [
       "<Figure size 432x288 with 1 Axes>"
      ]
     },
     "metadata": {
      "needs_background": "light"
     },
     "output_type": "display_data"
    }
   ],
   "source": [
    "plt.imshow(sample_mask.squeeze(2))"
   ]
  },
  {
   "cell_type": "code",
   "execution_count": 25,
   "metadata": {},
   "outputs": [
    {
     "data": {
      "text/html": [
       "<div>\n",
       "<style scoped>\n",
       "    .dataframe tbody tr th:only-of-type {\n",
       "        vertical-align: middle;\n",
       "    }\n",
       "\n",
       "    .dataframe tbody tr th {\n",
       "        vertical-align: top;\n",
       "    }\n",
       "\n",
       "    .dataframe thead th {\n",
       "        text-align: right;\n",
       "    }\n",
       "</style>\n",
       "<table border=\"1\" class=\"dataframe\">\n",
       "  <thead>\n",
       "    <tr style=\"text-align: right;\">\n",
       "      <th></th>\n",
       "      <th>case</th>\n",
       "      <th>patch</th>\n",
       "      <th>mask</th>\n",
       "      <th>type</th>\n",
       "      <th>ph</th>\n",
       "      <th>pw</th>\n",
       "      <th>MSI-H</th>\n",
       "      <th>is_validation</th>\n",
       "    </tr>\n",
       "  </thead>\n",
       "  <tbody>\n",
       "    <tr>\n",
       "      <th>82705</th>\n",
       "      <td>training_data_28</td>\n",
       "      <td>Train/patches_level2_len256_stride64/training_...</td>\n",
       "      <td>Train/patches_level2_len256_stride64/training_...</td>\n",
       "      <td>tumour</td>\n",
       "      <td>4784</td>\n",
       "      <td>2233</td>\n",
       "      <td>0</td>\n",
       "      <td>1</td>\n",
       "    </tr>\n",
       "    <tr>\n",
       "      <th>82706</th>\n",
       "      <td>training_data_28</td>\n",
       "      <td>Train/patches_level2_len256_stride64/training_...</td>\n",
       "      <td>Train/patches_level2_len256_stride64/training_...</td>\n",
       "      <td>background</td>\n",
       "      <td>2232</td>\n",
       "      <td>3126</td>\n",
       "      <td>0</td>\n",
       "      <td>1</td>\n",
       "    </tr>\n",
       "    <tr>\n",
       "      <th>82707</th>\n",
       "      <td>training_data_28</td>\n",
       "      <td>Train/patches_level2_len256_stride64/training_...</td>\n",
       "      <td>Train/patches_level2_len256_stride64/training_...</td>\n",
       "      <td>background</td>\n",
       "      <td>446</td>\n",
       "      <td>7274</td>\n",
       "      <td>0</td>\n",
       "      <td>1</td>\n",
       "    </tr>\n",
       "    <tr>\n",
       "      <th>82708</th>\n",
       "      <td>training_data_28</td>\n",
       "      <td>Train/patches_level2_len256_stride64/training_...</td>\n",
       "      <td>Train/patches_level2_len256_stride64/training_...</td>\n",
       "      <td>background</td>\n",
       "      <td>1467</td>\n",
       "      <td>6380</td>\n",
       "      <td>0</td>\n",
       "      <td>1</td>\n",
       "    </tr>\n",
       "    <tr>\n",
       "      <th>82709</th>\n",
       "      <td>training_data_28</td>\n",
       "      <td>Train/patches_level2_len256_stride64/training_...</td>\n",
       "      <td>Train/patches_level2_len256_stride64/training_...</td>\n",
       "      <td>background</td>\n",
       "      <td>2806</td>\n",
       "      <td>6125</td>\n",
       "      <td>0</td>\n",
       "      <td>1</td>\n",
       "    </tr>\n",
       "    <tr>\n",
       "      <th>...</th>\n",
       "      <td>...</td>\n",
       "      <td>...</td>\n",
       "      <td>...</td>\n",
       "      <td>...</td>\n",
       "      <td>...</td>\n",
       "      <td>...</td>\n",
       "      <td>...</td>\n",
       "      <td>...</td>\n",
       "    </tr>\n",
       "    <tr>\n",
       "      <th>436715</th>\n",
       "      <td>training_data_32</td>\n",
       "      <td>Train/patches_level2_len256_stride64/training_...</td>\n",
       "      <td>Train/patches_level2_len256_stride64/training_...</td>\n",
       "      <td>background</td>\n",
       "      <td>958</td>\n",
       "      <td>446</td>\n",
       "      <td>1</td>\n",
       "      <td>1</td>\n",
       "    </tr>\n",
       "    <tr>\n",
       "      <th>436716</th>\n",
       "      <td>training_data_32</td>\n",
       "      <td>Train/patches_level2_len256_stride64/training_...</td>\n",
       "      <td>Train/patches_level2_len256_stride64/training_...</td>\n",
       "      <td>background</td>\n",
       "      <td>1342</td>\n",
       "      <td>6253</td>\n",
       "      <td>1</td>\n",
       "      <td>1</td>\n",
       "    </tr>\n",
       "    <tr>\n",
       "      <th>436717</th>\n",
       "      <td>training_data_32</td>\n",
       "      <td>Train/patches_level2_len256_stride64/training_...</td>\n",
       "      <td>Train/patches_level2_len256_stride64/training_...</td>\n",
       "      <td>background</td>\n",
       "      <td>5304</td>\n",
       "      <td>957</td>\n",
       "      <td>1</td>\n",
       "      <td>1</td>\n",
       "    </tr>\n",
       "    <tr>\n",
       "      <th>436718</th>\n",
       "      <td>training_data_32</td>\n",
       "      <td>Train/patches_level2_len256_stride64/training_...</td>\n",
       "      <td>Train/patches_level2_len256_stride64/training_...</td>\n",
       "      <td>background</td>\n",
       "      <td>2364</td>\n",
       "      <td>7146</td>\n",
       "      <td>1</td>\n",
       "      <td>1</td>\n",
       "    </tr>\n",
       "    <tr>\n",
       "      <th>436719</th>\n",
       "      <td>training_data_32</td>\n",
       "      <td>Train/patches_level2_len256_stride64/training_...</td>\n",
       "      <td>Train/patches_level2_len256_stride64/training_...</td>\n",
       "      <td>background</td>\n",
       "      <td>0</td>\n",
       "      <td>7338</td>\n",
       "      <td>1</td>\n",
       "      <td>1</td>\n",
       "    </tr>\n",
       "  </tbody>\n",
       "</table>\n",
       "<p>64347 rows × 8 columns</p>\n",
       "</div>"
      ],
      "text/plain": [
       "                    case                                              patch  \\\n",
       "82705   training_data_28  Train/patches_level2_len256_stride64/training_...   \n",
       "82706   training_data_28  Train/patches_level2_len256_stride64/training_...   \n",
       "82707   training_data_28  Train/patches_level2_len256_stride64/training_...   \n",
       "82708   training_data_28  Train/patches_level2_len256_stride64/training_...   \n",
       "82709   training_data_28  Train/patches_level2_len256_stride64/training_...   \n",
       "...                  ...                                                ...   \n",
       "436715  training_data_32  Train/patches_level2_len256_stride64/training_...   \n",
       "436716  training_data_32  Train/patches_level2_len256_stride64/training_...   \n",
       "436717  training_data_32  Train/patches_level2_len256_stride64/training_...   \n",
       "436718  training_data_32  Train/patches_level2_len256_stride64/training_...   \n",
       "436719  training_data_32  Train/patches_level2_len256_stride64/training_...   \n",
       "\n",
       "                                                     mask        type    ph  \\\n",
       "82705   Train/patches_level2_len256_stride64/training_...      tumour  4784   \n",
       "82706   Train/patches_level2_len256_stride64/training_...  background  2232   \n",
       "82707   Train/patches_level2_len256_stride64/training_...  background   446   \n",
       "82708   Train/patches_level2_len256_stride64/training_...  background  1467   \n",
       "82709   Train/patches_level2_len256_stride64/training_...  background  2806   \n",
       "...                                                   ...         ...   ...   \n",
       "436715  Train/patches_level2_len256_stride64/training_...  background   958   \n",
       "436716  Train/patches_level2_len256_stride64/training_...  background  1342   \n",
       "436717  Train/patches_level2_len256_stride64/training_...  background  5304   \n",
       "436718  Train/patches_level2_len256_stride64/training_...  background  2364   \n",
       "436719  Train/patches_level2_len256_stride64/training_...  background     0   \n",
       "\n",
       "          pw  MSI-H  is_validation  \n",
       "82705   2233      0              1  \n",
       "82706   3126      0              1  \n",
       "82707   7274      0              1  \n",
       "82708   6380      0              1  \n",
       "82709   6125      0              1  \n",
       "...      ...    ...            ...  \n",
       "436715   446      1              1  \n",
       "436716  6253      1              1  \n",
       "436717   957      1              1  \n",
       "436718  7146      1              1  \n",
       "436719  7338      1              1  \n",
       "\n",
       "[64347 rows x 8 columns]"
      ]
     },
     "execution_count": 25,
     "metadata": {},
     "output_type": "execute_result"
    }
   ],
   "source": [
    "patch_dset.df_patches.loc[patch_dset.df_patches[\"type\"]==\"border\"]"
   ]
  },
  {
   "cell_type": "code",
   "execution_count": 27,
   "metadata": {},
   "outputs": [],
   "source": [
    "df = patch_dset.df_patches "
   ]
  },
  {
   "cell_type": "code",
   "execution_count": 126,
   "metadata": {},
   "outputs": [],
   "source": [
    "df['frequency'] = df['type'].map((1- (df['type'].value_counts()+len(df)*0.3) / len(df)))"
   ]
  },
  {
   "cell_type": "code",
   "execution_count": 127,
   "metadata": {},
   "outputs": [
    {
     "data": {
      "text/html": [
       "<div>\n",
       "<style scoped>\n",
       "    .dataframe tbody tr th:only-of-type {\n",
       "        vertical-align: middle;\n",
       "    }\n",
       "\n",
       "    .dataframe tbody tr th {\n",
       "        vertical-align: top;\n",
       "    }\n",
       "\n",
       "    .dataframe thead th {\n",
       "        text-align: right;\n",
       "    }\n",
       "</style>\n",
       "<table border=\"1\" class=\"dataframe\">\n",
       "  <thead>\n",
       "    <tr style=\"text-align: right;\">\n",
       "      <th></th>\n",
       "      <th>case</th>\n",
       "      <th>patch</th>\n",
       "      <th>mask</th>\n",
       "      <th>type</th>\n",
       "      <th>ph</th>\n",
       "      <th>pw</th>\n",
       "      <th>MSI-H</th>\n",
       "      <th>is_validation</th>\n",
       "      <th>frequency</th>\n",
       "    </tr>\n",
       "  </thead>\n",
       "  <tbody>\n",
       "    <tr>\n",
       "      <th>0</th>\n",
       "      <td>training_data_11</td>\n",
       "      <td>Train/patches_level2_len256_stride64/training_...</td>\n",
       "      <td>Train/patches_level2_len256_stride64/training_...</td>\n",
       "      <td>background</td>\n",
       "      <td>4558</td>\n",
       "      <td>5695</td>\n",
       "      <td>0</td>\n",
       "      <td>0</td>\n",
       "      <td>-0.077803</td>\n",
       "    </tr>\n",
       "    <tr>\n",
       "      <th>1</th>\n",
       "      <td>training_data_11</td>\n",
       "      <td>Train/patches_level2_len256_stride64/training_...</td>\n",
       "      <td>Train/patches_level2_len256_stride64/training_...</td>\n",
       "      <td>border</td>\n",
       "      <td>2912</td>\n",
       "      <td>2687</td>\n",
       "      <td>0</td>\n",
       "      <td>0</td>\n",
       "      <td>0.581871</td>\n",
       "    </tr>\n",
       "    <tr>\n",
       "      <th>2</th>\n",
       "      <td>training_data_11</td>\n",
       "      <td>Train/patches_level2_len256_stride64/training_...</td>\n",
       "      <td>Train/patches_level2_len256_stride64/training_...</td>\n",
       "      <td>background</td>\n",
       "      <td>1645</td>\n",
       "      <td>4159</td>\n",
       "      <td>0</td>\n",
       "      <td>0</td>\n",
       "      <td>-0.077803</td>\n",
       "    </tr>\n",
       "    <tr>\n",
       "      <th>3</th>\n",
       "      <td>training_data_11</td>\n",
       "      <td>Train/patches_level2_len256_stride64/training_...</td>\n",
       "      <td>Train/patches_level2_len256_stride64/training_...</td>\n",
       "      <td>background</td>\n",
       "      <td>1329</td>\n",
       "      <td>2367</td>\n",
       "      <td>0</td>\n",
       "      <td>0</td>\n",
       "      <td>-0.077803</td>\n",
       "    </tr>\n",
       "    <tr>\n",
       "      <th>4</th>\n",
       "      <td>training_data_11</td>\n",
       "      <td>Train/patches_level2_len256_stride64/training_...</td>\n",
       "      <td>Train/patches_level2_len256_stride64/training_...</td>\n",
       "      <td>background</td>\n",
       "      <td>3102</td>\n",
       "      <td>1279</td>\n",
       "      <td>0</td>\n",
       "      <td>0</td>\n",
       "      <td>-0.077803</td>\n",
       "    </tr>\n",
       "  </tbody>\n",
       "</table>\n",
       "</div>"
      ],
      "text/plain": [
       "               case                                              patch  \\\n",
       "0  training_data_11  Train/patches_level2_len256_stride64/training_...   \n",
       "1  training_data_11  Train/patches_level2_len256_stride64/training_...   \n",
       "2  training_data_11  Train/patches_level2_len256_stride64/training_...   \n",
       "3  training_data_11  Train/patches_level2_len256_stride64/training_...   \n",
       "4  training_data_11  Train/patches_level2_len256_stride64/training_...   \n",
       "\n",
       "                                                mask        type    ph    pw  \\\n",
       "0  Train/patches_level2_len256_stride64/training_...  background  4558  5695   \n",
       "1  Train/patches_level2_len256_stride64/training_...      border  2912  2687   \n",
       "2  Train/patches_level2_len256_stride64/training_...  background  1645  4159   \n",
       "3  Train/patches_level2_len256_stride64/training_...  background  1329  2367   \n",
       "4  Train/patches_level2_len256_stride64/training_...  background  3102  1279   \n",
       "\n",
       "   MSI-H  is_validation  frequency  \n",
       "0      0              0  -0.077803  \n",
       "1      0              0   0.581871  \n",
       "2      0              0  -0.077803  \n",
       "3      0              0  -0.077803  \n",
       "4      0              0  -0.077803  "
      ]
     },
     "execution_count": 127,
     "metadata": {},
     "output_type": "execute_result"
    }
   ],
   "source": [
    "df.head()"
   ]
  },
  {
   "cell_type": "code",
   "execution_count": 128,
   "metadata": {},
   "outputs": [
    {
     "data": {
      "text/html": [
       "<div>\n",
       "<style scoped>\n",
       "    .dataframe tbody tr th:only-of-type {\n",
       "        vertical-align: middle;\n",
       "    }\n",
       "\n",
       "    .dataframe tbody tr th {\n",
       "        vertical-align: top;\n",
       "    }\n",
       "\n",
       "    .dataframe thead th {\n",
       "        text-align: right;\n",
       "    }\n",
       "</style>\n",
       "<table border=\"1\" class=\"dataframe\">\n",
       "  <thead>\n",
       "    <tr style=\"text-align: right;\">\n",
       "      <th></th>\n",
       "      <th>case</th>\n",
       "      <th>patch</th>\n",
       "      <th>mask</th>\n",
       "      <th>ph</th>\n",
       "      <th>pw</th>\n",
       "      <th>MSI-H</th>\n",
       "      <th>is_validation</th>\n",
       "      <th>frequency</th>\n",
       "    </tr>\n",
       "    <tr>\n",
       "      <th>type</th>\n",
       "      <th></th>\n",
       "      <th></th>\n",
       "      <th></th>\n",
       "      <th></th>\n",
       "      <th></th>\n",
       "      <th></th>\n",
       "      <th></th>\n",
       "      <th></th>\n",
       "    </tr>\n",
       "  </thead>\n",
       "  <tbody>\n",
       "    <tr>\n",
       "      <th>background</th>\n",
       "      <td>289633</td>\n",
       "      <td>289633</td>\n",
       "      <td>289633</td>\n",
       "      <td>289633</td>\n",
       "      <td>289633</td>\n",
       "      <td>289633</td>\n",
       "      <td>289633</td>\n",
       "      <td>289633</td>\n",
       "    </tr>\n",
       "    <tr>\n",
       "      <th>border</th>\n",
       "      <td>43988</td>\n",
       "      <td>43988</td>\n",
       "      <td>43988</td>\n",
       "      <td>43988</td>\n",
       "      <td>43988</td>\n",
       "      <td>43988</td>\n",
       "      <td>43988</td>\n",
       "      <td>43988</td>\n",
       "    </tr>\n",
       "    <tr>\n",
       "      <th>tumour</th>\n",
       "      <td>38752</td>\n",
       "      <td>38752</td>\n",
       "      <td>38752</td>\n",
       "      <td>38752</td>\n",
       "      <td>38752</td>\n",
       "      <td>38752</td>\n",
       "      <td>38752</td>\n",
       "      <td>38752</td>\n",
       "    </tr>\n",
       "  </tbody>\n",
       "</table>\n",
       "</div>"
      ],
      "text/plain": [
       "              case   patch    mask      ph      pw   MSI-H  is_validation  \\\n",
       "type                                                                        \n",
       "background  289633  289633  289633  289633  289633  289633         289633   \n",
       "border       43988   43988   43988   43988   43988   43988          43988   \n",
       "tumour       38752   38752   38752   38752   38752   38752          38752   \n",
       "\n",
       "            frequency  \n",
       "type                   \n",
       "background     289633  \n",
       "border          43988  \n",
       "tumour          38752  "
      ]
     },
     "execution_count": 128,
     "metadata": {},
     "output_type": "execute_result"
    }
   ],
   "source": [
    "df.groupby(\"type\").count()"
   ]
  },
  {
   "cell_type": "code",
   "execution_count": 129,
   "metadata": {},
   "outputs": [
    {
     "ename": "ValueError",
     "evalue": "weight vector many not include negative values",
     "output_type": "error",
     "traceback": [
      "\u001b[0;31m---------------------------------------------------------------------------\u001b[0m",
      "\u001b[0;31mValueError\u001b[0m                                Traceback (most recent call last)",
      "\u001b[0;32m<ipython-input-129-ee49a03ca467>\u001b[0m in \u001b[0;36m<module>\u001b[0;34m\u001b[0m\n\u001b[0;32m----> 1\u001b[0;31m \u001b[0mtesta\u001b[0m \u001b[0;34m=\u001b[0m \u001b[0mdf\u001b[0m\u001b[0;34m.\u001b[0m\u001b[0msample\u001b[0m\u001b[0;34m(\u001b[0m\u001b[0;36m10200\u001b[0m\u001b[0;34m,\u001b[0m \u001b[0mweights\u001b[0m\u001b[0;34m=\u001b[0m\u001b[0mdf\u001b[0m\u001b[0;34m[\u001b[0m\u001b[0;34m'frequency'\u001b[0m\u001b[0;34m]\u001b[0m\u001b[0;34m)\u001b[0m\u001b[0;34m\u001b[0m\u001b[0;34m\u001b[0m\u001b[0m\n\u001b[0m",
      "\u001b[0;32m~/venv/lib/python3.7/site-packages/pandas/core/generic.py\u001b[0m in \u001b[0;36msample\u001b[0;34m(self, n, frac, replace, weights, random_state, axis)\u001b[0m\n\u001b[1;32m   5024\u001b[0m \u001b[0;34m\u001b[0m\u001b[0m\n\u001b[1;32m   5025\u001b[0m             \u001b[0;32mif\u001b[0m \u001b[0;34m(\u001b[0m\u001b[0mweights\u001b[0m \u001b[0;34m<\u001b[0m \u001b[0;36m0\u001b[0m\u001b[0;34m)\u001b[0m\u001b[0;34m.\u001b[0m\u001b[0many\u001b[0m\u001b[0;34m(\u001b[0m\u001b[0;34m)\u001b[0m\u001b[0;34m:\u001b[0m\u001b[0;34m\u001b[0m\u001b[0;34m\u001b[0m\u001b[0m\n\u001b[0;32m-> 5026\u001b[0;31m                 \u001b[0;32mraise\u001b[0m \u001b[0mValueError\u001b[0m\u001b[0;34m(\u001b[0m\u001b[0;34m\"weight vector many not include negative values\"\u001b[0m\u001b[0;34m)\u001b[0m\u001b[0;34m\u001b[0m\u001b[0;34m\u001b[0m\u001b[0m\n\u001b[0m\u001b[1;32m   5027\u001b[0m \u001b[0;34m\u001b[0m\u001b[0m\n\u001b[1;32m   5028\u001b[0m             \u001b[0;31m# If has nan, set to zero.\u001b[0m\u001b[0;34m\u001b[0m\u001b[0;34m\u001b[0m\u001b[0;34m\u001b[0m\u001b[0m\n",
      "\u001b[0;31mValueError\u001b[0m: weight vector many not include negative values"
     ]
    }
   ],
   "source": [
    "testa = df.sample(10200, weights=df['frequency'])"
   ]
  },
  {
   "cell_type": "code",
   "execution_count": 130,
   "metadata": {},
   "outputs": [
    {
     "data": {
      "text/plain": [
       "<matplotlib.axes._subplots.AxesSubplot at 0x7f09c4e4bc90>"
      ]
     },
     "execution_count": 130,
     "metadata": {},
     "output_type": "execute_result"
    },
    {
     "data": {
      "image/png": "[encoded data removed]",
      "text/plain": [
       "<Figure size 432x288 with 1 Axes>"
      ]
     },
     "metadata": {
      "needs_background": "light"
     },
     "output_type": "display_data"
    }
   ],
   "source": [
    "sns.countplot(testa[\"type\"])"
   ]
  },
  {
   "cell_type": "code",
   "execution_count": null,
   "metadata": {},
   "outputs": [],
   "source": []
  }
 ],
 "metadata": {
  "kernelspec": {
   "display_name": "Python 3",
   "language": "python",
   "name": "python3"
  },
  "language_info": {
   "codemirror_mode": {
    "name": "ipython",
    "version": 3
   },
   "file_extension": ".py",
   "mimetype": "text/x-python",
   "name": "python",
   "nbconvert_exporter": "python",
   "pygments_lexer": "ipython3",
   "version": "3.7.6"
  }
 },
 "nbformat": 4,
 "nbformat_minor": 4
}
